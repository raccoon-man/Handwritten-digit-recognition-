{
 "cells": [
  {
   "cell_type": "code",
   "execution_count": 1,
   "metadata": {},
   "outputs": [],
   "source": [
    "import importer"
   ]
  },
  {
   "cell_type": "code",
   "execution_count": null,
   "metadata": {},
   "outputs": [],
   "source": []
  },
  {
   "cell_type": "code",
   "execution_count": 5,
   "metadata": {},
   "outputs": [],
   "source": [
    "import sys\n",
    "import time\n",
    "import os\n",
    "import svm\n",
    "from sklearn.externals import joblib"
   ]
  },
  {
   "cell_type": "code",
   "execution_count": 6,
   "metadata": {},
   "outputs": [],
   "source": [
    "def svmtest(model_path):\n",
    "    path = \"D:\\jupyterPJ\\svm\"\n",
    "    tbasePath = os.path.join(path, \"data\\\\Mnist-image\\\\test\\\\\")\n",
    "    tcName = ['0', '1', '2', '3', '4', '5', '6', '7', '8', '9']\n",
    "    tst = time.process_time()\n",
    "    allErrCount = 0\n",
    "    allErrorRate = 0.0\n",
    "    allScore = 0.0\n",
    "    #加载模型\n",
    "    clf = joblib.load(model_path)\n",
    "    for tcn in tcName:\n",
    "        testPath = tbasePath + tcn\n",
    "        # print(\"class \" + tcn + \" path is: {}.\".format(testPath))\n",
    "        tflist = svm.get_file_list(testPath)\n",
    "        # tflist\n",
    "        tdataMat, tdataLabel = svm.read_and_convert(tflist)\n",
    "        print(\"test dataMat shape: {0}, test dataLabel len: {1} \".format(tdataMat.shape, len(tdataLabel)))\n",
    "\n",
    "        # print(\"test dataLabel: {}\".format(len(tdataLabel)))\n",
    "        pre_st = time.process_time()\n",
    "        preResult = clf.predict(tdataMat)\n",
    "        pre_et = time.process_time()\n",
    "        print(\"Recognition  \" + tcn + \" spent {:.4f}s.\".format((pre_et - pre_st)))\n",
    "        # print(\"predict result: {}\".format(len(preResult)))\n",
    "        errCount = len([x for x in preResult if x != tcn])\n",
    "        print(\"errorCount: {}.\".format(errCount))\n",
    "        allErrCount += errCount\n",
    "        score_st = time.process_time()\n",
    "        score = clf.score(tdataMat, tdataLabel)\n",
    "        score_et = time.process_time()\n",
    "        print(\"computing score spent {:.6f}s.\".format(score_et - score_st))\n",
    "        allScore += score\n",
    "        print(\"score: {:.6f}.\".format(score))\n",
    "        print(\"error rate is {:.6f}.\".format((1 - score)))\n",
    "\n",
    "    tet = time.clock()\n",
    "    print(\"Testing All class total spent {:.6f}s.\".format(tet - tst))\n",
    "    print(\"All error Count is: {}.\".format(allErrCount))\n",
    "    avgAccuracy = allScore / 10.0\n",
    "    print(\"Average accuracy is: {:.6f}.\".format(avgAccuracy))\n",
    "    print(\"Average error rate is: {:.6f}.\".format(1 - avgAccuracy))"
   ]
  },
  {
   "cell_type": "code",
   "execution_count": 7,
   "metadata": {},
   "outputs": [
    {
     "name": "stdout",
     "output_type": "stream",
     "text": [
      "D:\\jupyterPJ\\svm\\data\\Mnist-image\\test\\\n",
      "test dataMat shape: (980, 400), test dataLabel len: 980 \n",
      "Recognition  0 spent 9.1250s.\n",
      "errorCount: 11.\n",
      "computing score spent 8.968750s.\n",
      "score: 0.988776.\n",
      "error rate is 0.011224.\n",
      "test dataMat shape: (1135, 400), test dataLabel len: 1135 \n",
      "Recognition  1 spent 10.3281s.\n",
      "errorCount: 19.\n",
      "computing score spent 12.453125s.\n",
      "score: 0.983260.\n",
      "error rate is 0.016740.\n",
      "test dataMat shape: (1032, 400), test dataLabel len: 1032 \n",
      "Recognition  2 spent 19.5469s.\n",
      "errorCount: 97.\n",
      "computing score spent 15.203125s.\n",
      "score: 0.906008.\n",
      "error rate is 0.093992.\n",
      "test dataMat shape: (1010, 400), test dataLabel len: 1010 \n",
      "Recognition  3 spent 9.5469s.\n",
      "errorCount: 78.\n",
      "computing score spent 9.343750s.\n",
      "score: 0.922772.\n",
      "error rate is 0.077228.\n",
      "test dataMat shape: (982, 400), test dataLabel len: 982 \n",
      "Recognition  4 spent 9.0625s.\n",
      "errorCount: 60.\n",
      "computing score spent 9.140625s.\n",
      "score: 0.938900.\n",
      "error rate is 0.061100.\n",
      "test dataMat shape: (892, 400), test dataLabel len: 892 \n",
      "Recognition  5 spent 8.6250s.\n",
      "errorCount: 121.\n",
      "computing score spent 9.000000s.\n",
      "score: 0.864350.\n",
      "error rate is 0.135650.\n",
      "test dataMat shape: (958, 400), test dataLabel len: 958 \n",
      "Recognition  6 spent 18.7188s.\n",
      "errorCount: 40.\n",
      "computing score spent 18.140625s.\n",
      "score: 0.958246.\n",
      "error rate is 0.041754.\n",
      "test dataMat shape: (1028, 400), test dataLabel len: 1028 \n",
      "Recognition  7 spent 10.1406s.\n",
      "errorCount: 84.\n",
      "computing score spent 10.250000s.\n",
      "score: 0.918288.\n",
      "error rate is 0.081712.\n",
      "test dataMat shape: (974, 400), test dataLabel len: 974 \n",
      "Recognition  8 spent 10.2812s.\n",
      "errorCount: 115.\n",
      "computing score spent 11.421875s.\n",
      "score: 0.881930.\n",
      "error rate is 0.118070.\n",
      "test dataMat shape: (1009, 400), test dataLabel len: 1009 \n",
      "Recognition  9 spent 18.8125s.\n",
      "errorCount: 109.\n",
      "computing score spent 19.125000s.\n",
      "score: 0.891972.\n",
      "error rate is 0.108028.\n",
      "Testing All class total spent 922.503616s.\n",
      "All error Count is: 734.\n",
      "Average accuracy is: 0.925450.\n",
      "Average error rate is: 0.074550.\n"
     ]
    },
    {
     "name": "stderr",
     "output_type": "stream",
     "text": [
      "D:\\Anaconda\\lib\\site-packages\\ipykernel_launcher.py:36: DeprecationWarning: time.clock has been deprecated in Python 3.3 and will be removed from Python 3.8: use time.perf_counter or time.process_time instead\n"
     ]
    }
   ],
   "source": [
    "if __name__ == '__main__':\n",
    "    #path = sys.path[1]\n",
    "    #model_path=os.path.join(path,'model\\\\svm.model')\n",
    "    path = \"D:\\jupyterPJ\\svm\"\n",
    "    print(os.path.join(path, \"data\\\\Mnist-image\\\\test\\\\\"))\n",
    "    model_path=os.path.join(path,'model\\\\svm.model')\n",
    "    \n",
    "    \n",
    "    path = \"D:\\jupyterPJ\\svm\"\n",
    "    tbasePath = os.path.join(path, \"data\\\\Mnist-image\\\\test\\\\\")\n",
    "    \n",
    "    svmtest(model_path)"
   ]
  },
  {
   "cell_type": "code",
   "execution_count": null,
   "metadata": {},
   "outputs": [],
   "source": []
  }
 ],
 "metadata": {
  "kernelspec": {
   "display_name": "Python 3",
   "language": "python",
   "name": "python3"
  },
  "language_info": {
   "codemirror_mode": {
    "name": "ipython",
    "version": 3
   },
   "file_extension": ".py",
   "mimetype": "text/x-python",
   "name": "python",
   "nbconvert_exporter": "python",
   "pygments_lexer": "ipython3",
   "version": "3.7.3"
  }
 },
 "nbformat": 4,
 "nbformat_minor": 2
}
