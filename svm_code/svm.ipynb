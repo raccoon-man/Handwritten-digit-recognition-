{
 "cells": [
  {
   "cell_type": "code",
   "execution_count": 1,
   "metadata": {},
   "outputs": [],
   "source": [
    "from PIL import Image\n",
    "import os\n",
    "import sys\n",
    "import numpy as np\n",
    "import time\n",
    "from sklearn import svm\n",
    "import joblib"
   ]
  },
  {
   "cell_type": "code",
   "execution_count": 2,
   "metadata": {},
   "outputs": [],
   "source": [
    "# 获取指定路径下的所有 .png 文件\n",
    "def get_file_list(path):\n",
    "    \n",
    "    return [os.path.join(path, f) for f in os.listdir(path) if f.endswith(\".png\")]"
   ]
  },
  {
   "cell_type": "code",
   "execution_count": 3,
   "metadata": {},
   "outputs": [],
   "source": [
    "# 解析出 .png 图件文件的名称\n",
    "def get_img_name_str(imgPath):\n",
    "    return imgPath.split(os.path.sep)[-1]"
   ]
  },
  {
   "cell_type": "code",
   "execution_count": 4,
   "metadata": {},
   "outputs": [],
   "source": [
    "# 将 20px * 20px 的图像数据转换成 1*400 的 numpy 向量\n",
    "# 参数：imgFile--图像名  如：0_1.png\n",
    "# 返回：1*400 的 numpy 向量\n",
    "def img2vector(imgFile):\n",
    "    # print(\"in img2vector func--para:{}\".format(imgFile))\n",
    "    img = Image.open(imgFile).convert('L')\n",
    "    img_arr = np.array(img, 'i')  # 20px * 20px 灰度图像q \n",
    "    img_normalization = np.round(img_arr / 255)  # 对灰度值进行归一化\n",
    "    img_arr2 = np.reshape(img_normalization, (1, -1))  # 1 * 400 矩阵\n",
    "    return img_arr2\n"
   ]
  },
  {
   "cell_type": "code",
   "execution_count": 5,
   "metadata": {},
   "outputs": [],
   "source": [
    "# 读取一个类别的所有数据并转换成矩阵\n",
    "# 参数：\n",
    "#    basePath: 图像数据所在的基本路径\n",
    "#       Mnist-image/train/\n",
    "#       Mnist-image/test/\n",
    "#    cla：类别名称\n",
    "#       0,1,2,...,9\n",
    "# 返回：某一类别的所有数据----[样本数量*(图像宽x图像高)] 矩阵\n",
    "def read_and_convert(imgFileList):\n",
    "    dataLabel = []  # 存放类标签\n",
    "    dataNum = len(imgFileList)\n",
    "    dataMat = np.zeros((dataNum, 400))  # dataNum * 400 的矩阵\n",
    "    for i in range(dataNum):\n",
    "        imgNameStr = imgFileList[i]\n",
    "        imgName = get_img_name_str(imgNameStr)  # 得到 数字_实例编号.png\n",
    "        # print(\"imgName: {}\".format(imgName))\n",
    "        classTag = imgName.split(\".\")[0].split(\"_\")[0]  # 得到 类标签(数字)\n",
    "        # print(\"classTag: {}\".format(classTag))\n",
    "        dataLabel.append(classTag)\n",
    "        dataMat[i, :] = img2vector(imgNameStr)\n",
    "    return dataMat, dataLabel"
   ]
  },
  {
   "cell_type": "code",
   "execution_count": 6,
   "metadata": {},
   "outputs": [],
   "source": [
    "# 读取训练数据\n",
    "def read_all_data():\n",
    "    cName = ['1', '2', '3', '4', '5', '6', '7', '8', '9']\n",
    "    path = \"D:\\jupyterPJ\\svm\"\n",
    "    train_data_path = os.path.join(path, 'data\\\\Mnist-image\\\\train\\\\0')\n",
    "    #print(train_data_path)\n",
    "    #train_data_path = \"Mnist-image\\\\train\\\\0\"\n",
    "    print('0')\n",
    "    flist = get_file_list(train_data_path)\n",
    "    dataMat, dataLabel = read_and_convert(flist)\n",
    "    for c in cName:\n",
    "        print(c)\n",
    "        train_data_path = os.path.join(path, 'data\\\\Mnist-image\\\\train\\\\') + c\n",
    "        flist_ = get_file_list(train_data_path)\n",
    "        dataMat_, dataLabel_ = read_and_convert(flist_)\n",
    "        dataMat = np.concatenate((dataMat, dataMat_), axis=0)\n",
    "        dataLabel = np.concatenate((dataLabel, dataLabel_), axis=0)\n",
    "    # print(dataMat.shape)\n",
    "    # print(len(dataLabel))\n",
    "    return dataMat, dataLabel"
   ]
  },
  {
   "cell_type": "code",
   "execution_count": 7,
   "metadata": {},
   "outputs": [],
   "source": [
    "# create model\n",
    "def create_svm(dataMat, dataLabel,path,decision='ovr'):\n",
    "    clf = svm.SVC(C=1.0,kernel='sigmoid',decision_function_shape=decision,gamma='auto')\n",
    "    rf =clf.fit(dataMat, dataLabel)\n",
    "    joblib.dump(rf, path)\n",
    "    return clf\n",
    "\n"
   ]
  },
  {
   "cell_type": "code",
   "execution_count": 8,
   "metadata": {},
   "outputs": [
    {
     "name": "stdout",
     "output_type": "stream",
     "text": [
      "0\n",
      "1\n",
      "2\n",
      "3\n",
      "4\n",
      "5\n",
      "6\n",
      "7\n",
      "8\n",
      "9\n",
      "1.75\n",
      "Training spent 400.0312s.\n",
      "1\n"
     ]
    }
   ],
   "source": [
    "if __name__ == '__main__':\n",
    "    #clf = svm.SVC(decision_function_shape='ovr')\n",
    "    st = time.process_time()\n",
    "    dataMat, dataLabel = read_all_data()\n",
    "    path = '../data/Mnist-image_1//0'\n",
    "    path_1 = \"D:\\jupyterPJ\\svm\"\n",
    "    print(st)\n",
    "    \n",
    "    model_path=os.path.join(path_1,'model\\\\svm.model')\n",
    "    create_svm(dataMat, dataLabel,model_path, decision='ovr')\n",
    "    et = time.process_time()\n",
    "    print(\"Training spent {:.4f}s.\".format((et - st)))\n",
    "    print(1)"
   ]
  },
  {
   "cell_type": "code",
   "execution_count": null,
   "metadata": {},
   "outputs": [],
   "source": []
  },
  {
   "cell_type": "code",
   "execution_count": null,
   "metadata": {},
   "outputs": [],
   "source": []
  }
 ],
 "metadata": {
  "kernelspec": {
   "display_name": "Python 3",
   "language": "python",
   "name": "python3"
  },
  "language_info": {
   "codemirror_mode": {
    "name": "ipython",
    "version": 3
   },
   "file_extension": ".py",
   "mimetype": "text/x-python",
   "name": "python",
   "nbconvert_exporter": "python",
   "pygments_lexer": "ipython3",
   "version": "3.7.3"
  }
 },
 "nbformat": 4,
 "nbformat_minor": 2
}
